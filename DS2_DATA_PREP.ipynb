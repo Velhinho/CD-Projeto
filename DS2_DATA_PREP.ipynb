{
 "cells": [
  {
   "cell_type": "code",
   "execution_count": 1,
   "metadata": {},
   "outputs": [
    {
     "ename": "FileNotFoundError",
     "evalue": "[Errno 2] File ./qsar_oral_toxicity.csv does not exist: './qsar_oral_toxicity.csv'",
     "output_type": "error",
     "traceback": [
      "\u001b[0;31m---------------------------------------------------------------------------\u001b[0m",
      "\u001b[0;31mFileNotFoundError\u001b[0m                         Traceback (most recent call last)",
      "\u001b[0;32m<ipython-input-1-072275d28aaa>\u001b[0m in \u001b[0;36m<module>\u001b[0;34m\u001b[0m\n\u001b[1;32m     18\u001b[0m \u001b[0;34m\u001b[0m\u001b[0m\n\u001b[1;32m     19\u001b[0m \u001b[0mfp_ds1\u001b[0m \u001b[0;34m=\u001b[0m \u001b[0;34m\"./qsar_oral_toxicity.csv\"\u001b[0m\u001b[0;34m\u001b[0m\u001b[0;34m\u001b[0m\u001b[0m\n\u001b[0;32m---> 20\u001b[0;31m \u001b[0moriginal\u001b[0m \u001b[0;34m=\u001b[0m \u001b[0mpd\u001b[0m\u001b[0;34m.\u001b[0m\u001b[0mread_csv\u001b[0m\u001b[0;34m(\u001b[0m\u001b[0mfp_ds1\u001b[0m\u001b[0;34m,\u001b[0m \u001b[0mparse_dates\u001b[0m\u001b[0;34m=\u001b[0m\u001b[0;32mFalse\u001b[0m\u001b[0;34m,\u001b[0m \u001b[0msep\u001b[0m\u001b[0;34m=\u001b[0m\u001b[0;34m';'\u001b[0m\u001b[0;34m,\u001b[0m \u001b[0mheader\u001b[0m\u001b[0;34m=\u001b[0m\u001b[0;32mNone\u001b[0m\u001b[0;34m)\u001b[0m\u001b[0;34m\u001b[0m\u001b[0;34m\u001b[0m\u001b[0m\n\u001b[0m",
      "\u001b[0;32m~/anaconda3/lib/python3.8/site-packages/pandas/io/parsers.py\u001b[0m in \u001b[0;36mparser_f\u001b[0;34m(filepath_or_buffer, sep, delimiter, header, names, index_col, usecols, squeeze, prefix, mangle_dupe_cols, dtype, engine, converters, true_values, false_values, skipinitialspace, skiprows, skipfooter, nrows, na_values, keep_default_na, na_filter, verbose, skip_blank_lines, parse_dates, infer_datetime_format, keep_date_col, date_parser, dayfirst, cache_dates, iterator, chunksize, compression, thousands, decimal, lineterminator, quotechar, quoting, doublequote, escapechar, comment, encoding, dialect, error_bad_lines, warn_bad_lines, delim_whitespace, low_memory, memory_map, float_precision)\u001b[0m\n\u001b[1;32m    674\u001b[0m         )\n\u001b[1;32m    675\u001b[0m \u001b[0;34m\u001b[0m\u001b[0m\n\u001b[0;32m--> 676\u001b[0;31m         \u001b[0;32mreturn\u001b[0m \u001b[0m_read\u001b[0m\u001b[0;34m(\u001b[0m\u001b[0mfilepath_or_buffer\u001b[0m\u001b[0;34m,\u001b[0m \u001b[0mkwds\u001b[0m\u001b[0;34m)\u001b[0m\u001b[0;34m\u001b[0m\u001b[0;34m\u001b[0m\u001b[0m\n\u001b[0m\u001b[1;32m    677\u001b[0m \u001b[0;34m\u001b[0m\u001b[0m\n\u001b[1;32m    678\u001b[0m     \u001b[0mparser_f\u001b[0m\u001b[0;34m.\u001b[0m\u001b[0m__name__\u001b[0m \u001b[0;34m=\u001b[0m \u001b[0mname\u001b[0m\u001b[0;34m\u001b[0m\u001b[0;34m\u001b[0m\u001b[0m\n",
      "\u001b[0;32m~/anaconda3/lib/python3.8/site-packages/pandas/io/parsers.py\u001b[0m in \u001b[0;36m_read\u001b[0;34m(filepath_or_buffer, kwds)\u001b[0m\n\u001b[1;32m    446\u001b[0m \u001b[0;34m\u001b[0m\u001b[0m\n\u001b[1;32m    447\u001b[0m     \u001b[0;31m# Create the parser.\u001b[0m\u001b[0;34m\u001b[0m\u001b[0;34m\u001b[0m\u001b[0;34m\u001b[0m\u001b[0m\n\u001b[0;32m--> 448\u001b[0;31m     \u001b[0mparser\u001b[0m \u001b[0;34m=\u001b[0m \u001b[0mTextFileReader\u001b[0m\u001b[0;34m(\u001b[0m\u001b[0mfp_or_buf\u001b[0m\u001b[0;34m,\u001b[0m \u001b[0;34m**\u001b[0m\u001b[0mkwds\u001b[0m\u001b[0;34m)\u001b[0m\u001b[0;34m\u001b[0m\u001b[0;34m\u001b[0m\u001b[0m\n\u001b[0m\u001b[1;32m    449\u001b[0m \u001b[0;34m\u001b[0m\u001b[0m\n\u001b[1;32m    450\u001b[0m     \u001b[0;32mif\u001b[0m \u001b[0mchunksize\u001b[0m \u001b[0;32mor\u001b[0m \u001b[0miterator\u001b[0m\u001b[0;34m:\u001b[0m\u001b[0;34m\u001b[0m\u001b[0;34m\u001b[0m\u001b[0m\n",
      "\u001b[0;32m~/anaconda3/lib/python3.8/site-packages/pandas/io/parsers.py\u001b[0m in \u001b[0;36m__init__\u001b[0;34m(self, f, engine, **kwds)\u001b[0m\n\u001b[1;32m    878\u001b[0m             \u001b[0mself\u001b[0m\u001b[0;34m.\u001b[0m\u001b[0moptions\u001b[0m\u001b[0;34m[\u001b[0m\u001b[0;34m\"has_index_names\"\u001b[0m\u001b[0;34m]\u001b[0m \u001b[0;34m=\u001b[0m \u001b[0mkwds\u001b[0m\u001b[0;34m[\u001b[0m\u001b[0;34m\"has_index_names\"\u001b[0m\u001b[0;34m]\u001b[0m\u001b[0;34m\u001b[0m\u001b[0;34m\u001b[0m\u001b[0m\n\u001b[1;32m    879\u001b[0m \u001b[0;34m\u001b[0m\u001b[0m\n\u001b[0;32m--> 880\u001b[0;31m         \u001b[0mself\u001b[0m\u001b[0;34m.\u001b[0m\u001b[0m_make_engine\u001b[0m\u001b[0;34m(\u001b[0m\u001b[0mself\u001b[0m\u001b[0;34m.\u001b[0m\u001b[0mengine\u001b[0m\u001b[0;34m)\u001b[0m\u001b[0;34m\u001b[0m\u001b[0;34m\u001b[0m\u001b[0m\n\u001b[0m\u001b[1;32m    881\u001b[0m \u001b[0;34m\u001b[0m\u001b[0m\n\u001b[1;32m    882\u001b[0m     \u001b[0;32mdef\u001b[0m \u001b[0mclose\u001b[0m\u001b[0;34m(\u001b[0m\u001b[0mself\u001b[0m\u001b[0;34m)\u001b[0m\u001b[0;34m:\u001b[0m\u001b[0;34m\u001b[0m\u001b[0;34m\u001b[0m\u001b[0m\n",
      "\u001b[0;32m~/anaconda3/lib/python3.8/site-packages/pandas/io/parsers.py\u001b[0m in \u001b[0;36m_make_engine\u001b[0;34m(self, engine)\u001b[0m\n\u001b[1;32m   1112\u001b[0m     \u001b[0;32mdef\u001b[0m \u001b[0m_make_engine\u001b[0m\u001b[0;34m(\u001b[0m\u001b[0mself\u001b[0m\u001b[0;34m,\u001b[0m \u001b[0mengine\u001b[0m\u001b[0;34m=\u001b[0m\u001b[0;34m\"c\"\u001b[0m\u001b[0;34m)\u001b[0m\u001b[0;34m:\u001b[0m\u001b[0;34m\u001b[0m\u001b[0;34m\u001b[0m\u001b[0m\n\u001b[1;32m   1113\u001b[0m         \u001b[0;32mif\u001b[0m \u001b[0mengine\u001b[0m \u001b[0;34m==\u001b[0m \u001b[0;34m\"c\"\u001b[0m\u001b[0;34m:\u001b[0m\u001b[0;34m\u001b[0m\u001b[0;34m\u001b[0m\u001b[0m\n\u001b[0;32m-> 1114\u001b[0;31m             \u001b[0mself\u001b[0m\u001b[0;34m.\u001b[0m\u001b[0m_engine\u001b[0m \u001b[0;34m=\u001b[0m \u001b[0mCParserWrapper\u001b[0m\u001b[0;34m(\u001b[0m\u001b[0mself\u001b[0m\u001b[0;34m.\u001b[0m\u001b[0mf\u001b[0m\u001b[0;34m,\u001b[0m \u001b[0;34m**\u001b[0m\u001b[0mself\u001b[0m\u001b[0;34m.\u001b[0m\u001b[0moptions\u001b[0m\u001b[0;34m)\u001b[0m\u001b[0;34m\u001b[0m\u001b[0;34m\u001b[0m\u001b[0m\n\u001b[0m\u001b[1;32m   1115\u001b[0m         \u001b[0;32melse\u001b[0m\u001b[0;34m:\u001b[0m\u001b[0;34m\u001b[0m\u001b[0;34m\u001b[0m\u001b[0m\n\u001b[1;32m   1116\u001b[0m             \u001b[0;32mif\u001b[0m \u001b[0mengine\u001b[0m \u001b[0;34m==\u001b[0m \u001b[0;34m\"python\"\u001b[0m\u001b[0;34m:\u001b[0m\u001b[0;34m\u001b[0m\u001b[0;34m\u001b[0m\u001b[0m\n",
      "\u001b[0;32m~/anaconda3/lib/python3.8/site-packages/pandas/io/parsers.py\u001b[0m in \u001b[0;36m__init__\u001b[0;34m(self, src, **kwds)\u001b[0m\n\u001b[1;32m   1889\u001b[0m         \u001b[0mkwds\u001b[0m\u001b[0;34m[\u001b[0m\u001b[0;34m\"usecols\"\u001b[0m\u001b[0;34m]\u001b[0m \u001b[0;34m=\u001b[0m \u001b[0mself\u001b[0m\u001b[0;34m.\u001b[0m\u001b[0musecols\u001b[0m\u001b[0;34m\u001b[0m\u001b[0;34m\u001b[0m\u001b[0m\n\u001b[1;32m   1890\u001b[0m \u001b[0;34m\u001b[0m\u001b[0m\n\u001b[0;32m-> 1891\u001b[0;31m         \u001b[0mself\u001b[0m\u001b[0;34m.\u001b[0m\u001b[0m_reader\u001b[0m \u001b[0;34m=\u001b[0m \u001b[0mparsers\u001b[0m\u001b[0;34m.\u001b[0m\u001b[0mTextReader\u001b[0m\u001b[0;34m(\u001b[0m\u001b[0msrc\u001b[0m\u001b[0;34m,\u001b[0m \u001b[0;34m**\u001b[0m\u001b[0mkwds\u001b[0m\u001b[0;34m)\u001b[0m\u001b[0;34m\u001b[0m\u001b[0;34m\u001b[0m\u001b[0m\n\u001b[0m\u001b[1;32m   1892\u001b[0m         \u001b[0mself\u001b[0m\u001b[0;34m.\u001b[0m\u001b[0munnamed_cols\u001b[0m \u001b[0;34m=\u001b[0m \u001b[0mself\u001b[0m\u001b[0;34m.\u001b[0m\u001b[0m_reader\u001b[0m\u001b[0;34m.\u001b[0m\u001b[0munnamed_cols\u001b[0m\u001b[0;34m\u001b[0m\u001b[0;34m\u001b[0m\u001b[0m\n\u001b[1;32m   1893\u001b[0m \u001b[0;34m\u001b[0m\u001b[0m\n",
      "\u001b[0;32mpandas/_libs/parsers.pyx\u001b[0m in \u001b[0;36mpandas._libs.parsers.TextReader.__cinit__\u001b[0;34m()\u001b[0m\n",
      "\u001b[0;32mpandas/_libs/parsers.pyx\u001b[0m in \u001b[0;36mpandas._libs.parsers.TextReader._setup_parser_source\u001b[0;34m()\u001b[0m\n",
      "\u001b[0;31mFileNotFoundError\u001b[0m: [Errno 2] File ./qsar_oral_toxicity.csv does not exist: './qsar_oral_toxicity.csv'"
     ]
    }
   ],
   "source": [
    "from sklearn.preprocessing import StandardScaler\n",
    "from sklearn.metrics import accuracy_score, classification_report\n",
    "from sklearn.model_selection import train_test_split, GridSearchCV, cross_val_score\n",
    "import pandas as pd\n",
    "import itertools\n",
    "from sklearn.model_selection import train_test_split\n",
    "from sklearn.neighbors import KNeighborsClassifier\n",
    "pd.plotting.register_matplotlib_converters()\n",
    "import matplotlib.pyplot as plt\n",
    "%matplotlib inline\n",
    "import os\n",
    "import matplotlib.colors as clrs\n",
    "from sklearn.naive_bayes import GaussianNB, MultinomialNB, BernoulliNB\n",
    "import numpy as np\n",
    "import seaborn as sns\n",
    "import sklearn.metrics as metrics\n",
    "from sklearn.feature_selection import SelectKBest, f_classif\n",
    "\n",
    "fp_ds1 = \"./qsar_oral_toxicity.csv\"\n",
    "original = pd.read_csv(fp_ds1, parse_dates=False, sep=';', header=None)"
   ]
  },
  {
   "cell_type": "code",
   "execution_count": null,
   "metadata": {},
   "outputs": [],
   "source": [
    "import datetime as dt\n",
    "\n",
    "NR_COLUMNS: int = 3\n",
    "HEIGHT: int = 4\n",
    "\n",
    "\n",
    "def choose_grid(nr):\n",
    "    if nr < NR_COLUMNS:\n",
    "        return 1, nr\n",
    "    else:\n",
    "        return (nr // NR_COLUMNS, NR_COLUMNS) if nr % NR_COLUMNS == 0 else (nr // NR_COLUMNS + 1, NR_COLUMNS)\n",
    "\n",
    "\n",
    "def set_axes(xvalues: list, ax: plt.Axes = None, title: str = '', xlabel: str = '', ylabel: str = '', percentage=False):\n",
    "    if ax is None:\n",
    "        ax = plt.gca()\n",
    "    ax.set_title(title)\n",
    "    ax.set_xlabel(xlabel)\n",
    "    ax.set_ylabel(ylabel)\n",
    "    if percentage:\n",
    "        ax.set_ylim(0.0, 1.0)\n",
    "    ax.set_xlabel(xlabel)\n",
    "    ax.set_ylabel(ylabel)\n",
    "    ax.set_xticklabels(xvalues, fontsize='small', ha='center')\n",
    "\n",
    "    return ax\n",
    "\n",
    "\n",
    "def set_locators(xvalues: list, ax: plt.Axes = None):\n",
    "    if isinstance(xvalues[0], dt.datetime):\n",
    "        locator = mdates.AutoDateLocator()\n",
    "        ax.xaxis.set_major_locator(locator)\n",
    "        ax.xaxis.set_major_formatter(mdates.AutoDateFormatter(locator, defaultfmt='%Y-%m-%d'))\n",
    "    else:\n",
    "        ax.set_xticks(xvalues)\n",
    "        ax.set_xlim(xvalues[0], xvalues[-1])\n",
    "\n",
    "    return ax\n",
    "\n",
    "\n",
    "def plot_line(xvalues: list, yvalues: list, ax: plt.Axes = None, title: str = '', xlabel: str = '',\n",
    "              ylabel: str = '', percentage=False):\n",
    "    ax = set_axes(xvalues, ax=ax, title=title, xlabel=xlabel, ylabel=ylabel, percentage=percentage)\n",
    "    ax = set_locators(xvalues, ax=ax)\n",
    "    ax.plot(xvalues,  yvalues, c=cfg.LINE_COLOR)\n",
    "\n",
    "\n",
    "def multiple_line_chart(xvalues: list, yvalues: dict, ax: plt.Axes = None, title: str = '',\n",
    "                        xlabel: str = '', ylabel: str = '', percentage=False):\n",
    "    ax = set_axes(xvalues, ax=ax, title=title, xlabel=xlabel, ylabel=ylabel, percentage=percentage)\n",
    "    ax = set_locators(xvalues, ax=ax)\n",
    "\n",
    "    legend: list = []\n",
    "    for name, y in yvalues.items():\n",
    "        ax.plot(xvalues, y)\n",
    "        legend.append(name)\n",
    "    ax.legend(legend)\n",
    "\n",
    "\n",
    "def bar_chart(xvalues: list, yvalues: list, ax: plt.Axes = None, title: str = '',\n",
    "              xlabel: str = '', ylabel: str = '', percentage=False):\n",
    "    ax = set_axes(xvalues, ax=ax, title=title, xlabel=xlabel, ylabel=ylabel, percentage=percentage)\n",
    "    ax.bar(xvalues, yvalues, edgecolor=my_palette['dark blue'], color=my_palette['pale blue'])\n",
    "\n",
    "\n",
    "def multiple_bar_chart(xvalues: list, yvalues: dict, ax: plt.Axes = None, title: str = '',\n",
    "                       xlabel: str = '', ylabel: str = '', percentage=False):\n",
    "    ax = set_axes(xvalues, ax=ax, title=title, xlabel=xlabel, ylabel=ylabel, percentage=percentage)\n",
    "\n",
    "    x = np.arange(len(xvalues))  # the label locations\n",
    "\n",
    "    width = 0.8 / (len(xvalues)*len(yvalues))\n",
    "    # the width of the bars\n",
    "    step = width / len(xvalues)\n",
    "    i: int = 0\n",
    "    for metric in yvalues:\n",
    "        ax.bar(x + i*width, yvalues[metric], width=width, align='center', label=metric)\n",
    "        i += 1\n",
    "    ax.set_xticks(x + width/len(xvalues) - step/2)\n",
    "    ax.legend(fontsize='x-small', title_fontsize='small')\n",
    "\n",
    "\n",
    "def plot_confusion_matrix(cnf_matrix: np.ndarray, classes_names: np.ndarray,\n",
    "                          ax: plt.Axes = None, normalize: bool = False):\n",
    "    if ax is None:\n",
    "        ax = plt.gca()\n",
    "    if normalize:\n",
    "        total = cnf_matrix.sum(axis=1)[:, np.newaxis]\n",
    "        cm = cnf_matrix.astype('float') / total\n",
    "        title = \"Normalized confusion matrix\"\n",
    "    else:\n",
    "        cm = cnf_matrix\n",
    "        title = 'Confusion matrix'\n",
    "    np.set_printoptions(precision=2)\n",
    "    tick_marks = np.arange(0, len(classes_names), 1)\n",
    "    ax.set_title(title)\n",
    "    ax.set_ylabel('True label')\n",
    "    ax.set_xlabel('Predicted label')\n",
    "    ax.set_xticks(tick_marks)\n",
    "    ax.set_yticks(tick_marks)\n",
    "    ax.set_xticklabels(classes_names)\n",
    "    ax.set_yticklabels(classes_names)\n",
    "    ax.imshow(cm, interpolation='nearest', cmap=clrs.LinearSegmentedColormap.from_list(\"myCMPBlues\", [my_palette['pale blue'], my_palette['blue2'], my_palette['blue3'], my_palette['dark blue']]))\n",
    "\n",
    "    fmt = '.2f' if normalize else 'd'\n",
    "    for i, j in itertools.product(range(cm.shape[0]), range(cm.shape[1])):\n",
    "        ax.text(j, i, format(cm[i, j], fmt), color='w', horizontalalignment=\"center\")\n",
    "\n",
    "\n",
    "def plot_evaluation_results(labels: np.ndarray, trn_y, prd_trn, tst_y, prd_tst):\n",
    "    cnf_mtx_trn = metrics.confusion_matrix(trn_y, prd_trn, labels)\n",
    "    tn_trn, fp_trn, fn_trn, tp_trn = cnf_mtx_trn.ravel()\n",
    "    cnf_mtx_tst = metrics.confusion_matrix(tst_y, prd_tst, labels)\n",
    "    tn_tst, fp_tst, fn_tst, tp_tst = cnf_mtx_tst.ravel()\n",
    "\n",
    "    evaluation = {'Accuracy': [(tn_trn + tp_trn) / (tn_trn + tp_trn + fp_trn + fn_trn),\n",
    "                               (tn_tst + tp_tst) / (tn_tst + tp_tst + fp_tst + fn_tst)],\n",
    "                  'Recall': [tp_trn / (tp_trn + fn_trn), tp_tst / (tp_tst + fn_tst)],\n",
    "                  'Specificity': [tn_trn / (tn_trn + fp_trn), tn_tst / (tn_tst + fp_tst)],\n",
    "                  'Precision': [tp_trn / (tp_trn + fp_trn), tp_tst / (tp_tst + fp_tst)]}\n",
    "\n",
    "    fig, axs = plt.subplots(1, 2, figsize=(2 * HEIGHT, HEIGHT))\n",
    "    multiple_bar_chart(['Train', 'Test'], evaluation, ax=axs[0], title=\"Model's performance over Train and Test sets\")\n",
    "    plot_confusion_matrix(cnf_mtx_tst, labels, ax=axs[1])\n",
    "\n",
    "\n",
    "def plot_roc_chart(models: dict, tstX: np.ndarray, tstY: np.ndarray, ax: plt.Axes = None, target: str = 'class'):\n",
    "    if ax is None:\n",
    "        ax = plt.gca()\n",
    "    ax.set_xlim(0.0, 1.0)\n",
    "    ax.set_ylim(0.0, 1.0)\n",
    "    ax.set_xlabel('FP rate')\n",
    "    ax.set_ylabel('TP rate')\n",
    "    ax.set_title('ROC chart for %s' % target)\n",
    "\n",
    "    ax.plot([0, 1], [0, 1], color='navy', label='random', linewidth=1, linestyle='--',  marker='')\n",
    "    for clf in models.keys():\n",
    "        metrics.plot_roc_curve(models[clf], tstX, tstY, ax=ax, marker='', linewidth=1)\n",
    "    ax.legend(loc=\"lower right\")"
   ]
  },
  {
   "cell_type": "code",
   "execution_count": null,
   "metadata": {},
   "outputs": [],
   "source": [
    "original.describe(include='all')"
   ]
  },
  {
   "cell_type": "code",
   "execution_count": null,
   "metadata": {},
   "outputs": [],
   "source": [
    "sb_vars = original.select_dtypes(include='object')\n",
    "original[sb_vars.columns] = original.select_dtypes(['object']).apply(lambda x: x.astype('category'))\n",
    "\n",
    "cols_nr = original.select_dtypes(include='number')\n",
    "cols_sb = original.select_dtypes(include='category')\n",
    "original.dtypes"
   ]
  },
  {
   "cell_type": "code",
   "execution_count": null,
   "metadata": {},
   "outputs": [],
   "source": [
    "from sklearn.preprocessing import StandardScaler, MinMaxScaler\n",
    "\n",
    "transf = MinMaxScaler(feature_range=(0, 1), copy=True).fit(cols_nr)\n",
    "cols_nr = pd.DataFrame(transf.transform(cols_nr), columns= cols_nr.columns)\n",
    "norm_data_minmax = cols_nr.join(cols_sb, how='right')\n",
    "norm_data_minmax.describe(include='all')\n",
    "\n",
    "import matplotlib.pyplot as plt\n",
    "fig, axs = plt.subplots(1, 2, figsize=(20,10),squeeze=False)\n",
    "axs[0, 0].set_title('Original data')\n",
    "cols_nr.boxplot(ax=axs[0, 0])\n",
    "axs[0, 1].set_title('MinMax normalization')\n",
    "norm_data_minmax.boxplot(ax=axs[0, 1])\n",
    "#fig.tight_layout()\n",
    "plt.show()"
   ]
  },
  {
   "cell_type": "code",
   "execution_count": null,
   "metadata": {},
   "outputs": [],
   "source": [
    "norm_data_minmax.describe(include='all')"
   ]
  },
  {
   "cell_type": "code",
   "execution_count": null,
   "metadata": {},
   "outputs": [],
   "source": [
    "norm_data_minmax.to_csv(r'DS2_normalized_not_balanced.csv')"
   ]
  },
  {
   "cell_type": "code",
   "execution_count": null,
   "metadata": {
    "scrolled": true
   },
   "outputs": [],
   "source": [
    "import matplotlib.pyplot as plt\n",
    "\n",
    "target_count = norm_data_minmax['negative'].value_counts()\n",
    "plt.figure()\n",
    "plt.title('Class balance')\n",
    "plt.bar(target_count.index, target_count.values)\n",
    "plt.show()\n",
    "\n",
    "min_class = target_count.idxmin()\n",
    "ind_min_class = target_count.index.get_loc(min_class)\n",
    "\n",
    "print('Minority class:', target_count[ind_min_class])\n",
    "print('Majority class:', target_count[1-ind_min_class])\n",
    "print('Proportion:', round(target_count[ind_min_class] / target_count[1-ind_min_class], 2), ': 1')"
   ]
  },
  {
   "cell_type": "code",
   "execution_count": null,
   "metadata": {
    "scrolled": true
   },
   "outputs": [],
   "source": [
    "from imblearn.over_sampling import SMOTE\n",
    "from imblearn.over_sampling import RandomOverSampler\n",
    "oversample=RandomOverSampler(sampling_strategy=0.75)\n",
    "X = norm_data_minmax.iloc[:,:-1]\n",
    "y = norm_data_minmax[[\"negative\"]]\n",
    "X_over, y_over = oversample.fit_resample(X, y)\n",
    "smote_part_1_dataset = pd.concat((X_over,y_over),axis=1)\n",
    "sns.countplot(x=\"negative\", data=smote_part_1_dataset)\n",
    "        "
   ]
  },
  {
   "cell_type": "code",
   "execution_count": null,
   "metadata": {},
   "outputs": [],
   "source": [
    "#INTERESSANTE VER OS MODELOS INTERMÉDIOS"
   ]
  },
  {
   "cell_type": "code",
   "execution_count": null,
   "metadata": {},
   "outputs": [],
   "source": [
    "from imblearn.over_sampling import SMOTE\n",
    "from imblearn.under_sampling import RandomUnderSampler\n",
    "\n",
    "undersample = RandomUnderSampler(sampling_strategy='majority')\n",
    "X = smote_part_1_dataset.iloc[:,:-1]\n",
    "y = smote_part_1_dataset[[\"negative\"]]\n",
    "X_over, y_over = undersample.fit_resample(X, y)\n",
    "smote_part_2_dataset = pd.concat((X_over,y_over),axis=1)\n",
    "sns.countplot(x=\"negative\", data=smote_part_2_dataset)"
   ]
  },
  {
   "cell_type": "code",
   "execution_count": null,
   "metadata": {},
   "outputs": [],
   "source": [
    "smote_part_2_dataset.to_csv(r'DS2_with_outliers_balanced.csv')"
   ]
  },
  {
   "cell_type": "code",
   "execution_count": null,
   "metadata": {},
   "outputs": [],
   "source": [
    "smote_part_2_dataset"
   ]
  },
  {
   "cell_type": "code",
   "execution_count": null,
   "metadata": {},
   "outputs": [],
   "source": [
    "#for col in smote_part_2_dataset:\n",
    "#    if(col != 'negative'):\n",
    "#        Q1=smote_part_2_dataset[col].quantile(0.25)\n",
    "#        Q3=smote_part_2_dataset[col].quantile(0.75)\n",
    "#        iqr=Q3-Q1\n",
    "#        lowerlimit=Q1-1.5*iqr\n",
    "#        upperlimit=Q3+1.5*iqr\n",
    "#        smote_part_2_dataset=smote_part_2_dataset[(smote_part_2_dataset[col]>lowerlimit) & (smote_part_2_dataset[col]<upperlimit)]\n",
    "\n",
    "#smote_part_2_dataset"
   ]
  },
  {
   "cell_type": "code",
   "execution_count": null,
   "metadata": {},
   "outputs": [],
   "source": [
    "\n"
   ]
  },
  {
   "cell_type": "code",
   "execution_count": null,
   "metadata": {},
   "outputs": [],
   "source": [
    "dummy = pd.get_dummies(smote_part_2_dataset.negative, prefix='new').iloc[:,:1]\n",
    "result = pd.concat([smote_part_2_dataset, dummy], axis = 1)\n",
    "result.pop('negative')\n",
    "result.head()"
   ]
  },
  {
   "cell_type": "code",
   "execution_count": null,
   "metadata": {},
   "outputs": [],
   "source": [
    "corr = result.corr().abs()\n",
    "upper = corr.where(np.triu(np.ones(corr.shape), k=1).astype(np.bool))\n",
    "to_drop = [column for column in upper.columns if any(upper[column] > 0.90)]\n",
    "result.drop(result[to_drop], axis = 1, inplace = True)\n",
    "result.drop_duplicates()\n",
    "result.head()"
   ]
  },
  {
   "cell_type": "raw",
   "metadata": {},
   "source": []
  },
  {
   "cell_type": "code",
   "execution_count": null,
   "metadata": {},
   "outputs": [],
   "source": [
    "#result.to_csv(r'DS2_with_outliers_no_corr_balanced.csv')"
   ]
  }
 ],
 "metadata": {
  "kernelspec": {
   "display_name": "Python 3",
   "language": "python",
   "name": "python3"
  },
  "language_info": {
   "codemirror_mode": {
    "name": "ipython",
    "version": 3
   },
   "file_extension": ".py",
   "mimetype": "text/x-python",
   "name": "python",
   "nbconvert_exporter": "python",
   "pygments_lexer": "ipython3",
   "version": "3.8.3"
  }
 },
 "nbformat": 4,
 "nbformat_minor": 4
}
