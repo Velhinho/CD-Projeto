{
 "cells": [
  {
   "cell_type": "code",
   "execution_count": 4,
   "metadata": {},
   "outputs": [],
   "source": [
    "import pandas as pd\n",
    "import matplotlib.pyplot as plt\n",
    "from pandas.plotting import register_matplotlib_converters\n",
    "import config as cfg\n",
    "\n",
    "register_matplotlib_converters()\n",
    "data = pd.read_csv(\"datasets/qsar_oral_toxicity.csv\", sep=\";\", header=None)\n"
   ]
  },
  {
   "cell_type": "code",
   "execution_count": null,
   "metadata": {},
   "outputs": [],
   "source": [
    "import seaborn as sns\n",
    "\n",
    "fig = plt.figure(figsize=[12, 12])\n",
    "corr_mtx = data.corr()\n",
    "sns.heatmap(corr_mtx, xticklabels=corr_mtx.columns, yticklabels=corr_mtx.columns, annot=True, cmap='Blues')\n",
    "plt.title('Correlation analysis')\n",
    "plt.show()"
   ]
  },
  {
   "cell_type": "code",
   "execution_count": null,
   "metadata": {},
   "outputs": [],
   "source": [
    "columns = data.select_dtypes(include='number').columns\n",
    "rows, cols = len(columns)-1, len(columns)-1\n",
    "plt.figure()\n",
    "fig, axs = plt.subplots(rows, cols, figsize=(cols*4, rows*4), squeeze=False)\n",
    "for i in range(len(columns)):\n",
    "    var1 = columns[i]\n",
    "    for j in range(i+1, len(columns)):\n",
    "        var2 = columns[j]\n",
    "        axs[i, j-1].set_title(\"%s x %s\"%(var1,var2))\n",
    "        axs[i, j-1].set_xlabel(var1)\n",
    "        axs[i, j-1].set_ylabel(var2)\n",
    "        axs[i, j-1].scatter(data[var1], data[var2])\n",
    "plt.show()"
   ]
  }
 ],
 "metadata": {
  "kernelspec": {
   "display_name": "Python 3",
   "language": "python",
   "name": "python3"
  },
  "language_info": {
   "codemirror_mode": {
    "name": "ipython",
    "version": 3
   },
   "file_extension": ".py",
   "mimetype": "text/x-python",
   "name": "python",
   "nbconvert_exporter": "python",
   "pygments_lexer": "ipython3",
   "version": "3.8.3"
  }
 },
 "nbformat": 4,
 "nbformat_minor": 4
}
